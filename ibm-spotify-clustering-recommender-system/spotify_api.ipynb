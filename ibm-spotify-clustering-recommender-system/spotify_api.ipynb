{
 "cells": [
  {
   "cell_type": "code",
   "execution_count": null,
   "id": "81e9ba26-6561-4587-b67c-664b43a9d7c7",
   "metadata": {},
   "outputs": [],
   "source": [
    "import time\n",
    "import os\n",
    "import pandas as pd\n",
    "import spotipy\n",
    "from spotipy.oauth2 import SpotifyOAuth"
   ]
  },
  {
   "cell_type": "code",
   "execution_count": null,
   "id": "04de3889-9768-40cb-8a36-f947438df261",
   "metadata": {},
   "outputs": [],
   "source": [
    "# Reading env vars\n",
    "SPOTIFY_CLIENT_ID = os.environ.get(\"SPOTIFY_CLIENT_ID\")\n",
    "SPOTIFY_CLIENT_SECRET = os.environ.get(\"SPOTIFY_CLIENT_SECRET\")\n",
    "SPOTIFY_REDIRECT_URI = os.environ.get(\"SPOTIFY_REDIRECT_URI\")\n",
    "SCOPES = [\"user-library-read\"]"
   ]
  },
  {
   "cell_type": "code",
   "execution_count": null,
   "id": "1dd75176-ddaa-4c2c-8cdb-d6e99132246a",
   "metadata": {},
   "outputs": [],
   "source": [
    "def authenticate_spotify(client_id, client_secret, redirect_uri, scope):\n",
    "    \"\"\"Authenticate with Spotify using Spotipy\"\"\"\n",
    "    sp_oauth = SpotifyOAuth(\n",
    "        client_id=SPOTIFY_CLIENT_ID,\n",
    "        client_secret=SPOTIFY_CLIENT_SECRET,\n",
    "        redirect_uri=SPOTIFY_REDIRECT_URI,\n",
    "        scope=SCOPES,\n",
    "    )\n",
    "\n",
    "    auth_url = sp_oauth.get_authorize_url()\n",
    "    print(f\"Please go to this URL to authorize the application: {auth_url}\")\n",
    "\n",
    "    code = input(\"Please enter the code: \")\n",
    "    token_info = sp_oauth.get_access_token(code)\n",
    "    access_token = token_info[\"access_token\"]\n",
    "    return spotipy.Spotify(auth=access_token)"
   ]
  },
  {
   "cell_type": "code",
   "execution_count": null,
   "id": "c42de6e4-855d-410b-8350-2ac747b91a5f",
   "metadata": {},
   "outputs": [],
   "source": [
    "def get_saved_tracks(sp):\n",
    "    \"\"\"Get the user's saved tracks from Spotify\"\"\"\n",
    "    saved_tracks = []\n",
    "    results = sp.current_user_saved_tracks()\n",
    "    while results:\n",
    "        saved_tracks += results[\"items\"]\n",
    "        if results[\"next\"]:\n",
    "            results = sp.next(results)\n",
    "        else:\n",
    "            results = None\n",
    "    return saved_tracks"
   ]
  },
  {
   "cell_type": "code",
   "execution_count": null,
   "id": "2541a6e4-0f14-4994-bb4a-cc91965a898c",
   "metadata": {},
   "outputs": [],
   "source": [
    "def get_audio_features(sp, saved_tracks):\n",
    "    \"\"\"Get the audio features of the saved tracks\"\"\"\n",
    "    audio_features = []\n",
    "    for i in range(0, len(saved_tracks), 50):\n",
    "        track_ids = [\n",
    "            saved_tracks[j][\"track\"][\"id\"]\n",
    "            for j in range(i, min(i + 50, len(saved_tracks)))\n",
    "        ]\n",
    "        audio_features += sp.audio_features(track_ids)\n",
    "        time.sleep(5)\n",
    "    return audio_features"
   ]
  },
  {
   "cell_type": "code",
   "execution_count": null,
   "id": "a65d7f26-f573-4b30-8997-4af596928241",
   "metadata": {},
   "outputs": [],
   "source": [
    "def create_dataframe(saved_tracks, audio_features):\n",
    "    \"\"\"Create a Pandas DataFrame with relevant information\"\"\"\n",
    "    df = pd.DataFrame(\n",
    "        {\n",
    "            \"artist\": [track[\"track\"][\"artists\"][0][\"name\"] for track in saved_tracks],\n",
    "            \"track_name\": [track[\"track\"][\"name\"] for track in saved_tracks],\n",
    "            \"album_name\": [track[\"track\"][\"album\"][\"name\"] for track in saved_tracks],\n",
    "            \"popularity\": [track[\"track\"][\"popularity\"] for track in saved_tracks],\n",
    "            \"release_date\": [\n",
    "                track[\"track\"][\"album\"][\"release_date\"] for track in saved_tracks\n",
    "            ],\n",
    "            \"duration_ms\": [track[\"track\"][\"duration_ms\"] for track in saved_tracks],\n",
    "            \"acousticness\": [feature[\"acousticness\"] for feature in audio_features],\n",
    "            \"danceability\": [feature[\"danceability\"] for feature in audio_features],\n",
    "            \"energy\": [feature[\"energy\"] for feature in audio_features],\n",
    "            \"instrumentalness\": [\n",
    "                feature[\"instrumentalness\"] for feature in audio_features\n",
    "            ],\n",
    "            \"key\": [feature[\"key\"] for feature in audio_features],\n",
    "            \"liveness\": [feature[\"liveness\"] for feature in audio_features],\n",
    "            \"loudness\": [feature[\"loudness\"] for feature in audio_features],\n",
    "            \"mode\": [feature[\"mode\"] for feature in audio_features],\n",
    "            \"speechiness\": [feature[\"speechiness\"] for feature in audio_features],\n",
    "            \"tempo\": [feature[\"tempo\"] for feature in audio_features],\n",
    "            \"time_signature\": [feature[\"time_signature\"] for feature in audio_features],\n",
    "            \"valence\": [feature[\"valence\"] for feature in audio_features],\n",
    "        }\n",
    "    )\n",
    "    return df"
   ]
  },
  {
   "cell_type": "code",
   "execution_count": null,
   "id": "60e395d4-bfb0-4b16-8b5c-76706900b8f1",
   "metadata": {},
   "outputs": [],
   "source": [
    "def save_to_csv(df, file_name):\n",
    "    \"\"\"\n",
    "    Saves the given DataFrame to a CSV file with the given file name.\n",
    "    \"\"\"\n",
    "    df.to_csv(file_name, index=False, encoding=\"utf-8\")\n",
    "    print(f\"DataFrame saved to {file_name}.\")"
   ]
  },
  {
   "cell_type": "code",
   "execution_count": null,
   "id": "95829e01-4ebe-44d8-9be5-a66ad6e7828e",
   "metadata": {},
   "outputs": [],
   "source": [
    "sp = authenticate_spotify(\n",
    "    SPOTIFY_CLIENT_ID, SPOTIFY_CLIENT_SECRET, SPOTIFY_REDIRECT_URI, SCOPES\n",
    ")"
   ]
  },
  {
   "cell_type": "code",
   "execution_count": null,
   "id": "e5411c62-7343-4497-8981-f7ed9177e5bc",
   "metadata": {},
   "outputs": [],
   "source": [
    "saved_tracks = get_saved_tracks(sp)"
   ]
  },
  {
   "cell_type": "code",
   "execution_count": null,
   "id": "fd2f2a9e-a246-48b5-9fc2-89cefbc66a3b",
   "metadata": {},
   "outputs": [],
   "source": [
    "audio_features = get_audio_features(sp, saved_tracks)"
   ]
  },
  {
   "cell_type": "code",
   "execution_count": null,
   "id": "f6b6b543-92c6-4829-9360-57715a6d0456",
   "metadata": {},
   "outputs": [],
   "source": [
    "df = create_dataframe(saved_tracks, audio_features)"
   ]
  },
  {
   "cell_type": "code",
   "execution_count": null,
   "id": "01b76b13-86bd-42bd-b980-f5d0eac26985",
   "metadata": {},
   "outputs": [],
   "source": [
    "save_to_csv(df, \"spotify_playlist.csv\")"
   ]
  }
 ],
 "metadata": {
  "kernelspec": {
   "display_name": "Python 3 (ipykernel)",
   "language": "python",
   "name": "python3"
  },
  "language_info": {
   "codemirror_mode": {
    "name": "ipython",
    "version": 3
   },
   "file_extension": ".py",
   "mimetype": "text/x-python",
   "name": "python",
   "nbconvert_exporter": "python",
   "pygments_lexer": "ipython3",
   "version": "3.11.1"
  }
 },
 "nbformat": 4,
 "nbformat_minor": 5
}
